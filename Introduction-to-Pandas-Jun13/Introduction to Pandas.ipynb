{
 "cells": [
  {
   "cell_type": "markdown",
   "id": "e577264b",
   "metadata": {},
   "source": [
    "# Content of this talk\n",
    "\n",
    "- Why do you need pandas?\n",
    "- Basic introduction to pandas data structures"
   ]
  },
  {
   "cell_type": "markdown",
   "id": "e30e69a4",
   "metadata": {},
   "source": [
    "# Why do you need pandas?"
   ]
  },
  {
   "cell_type": "markdown",
   "id": "b5812f55",
   "metadata": {},
   "source": [
    "When working with *tabular or structured data* (like R dataframe, SQL table, Excel spreadsheet, ...):\n",
    "\n",
    "- Import data\n",
    "- Clean up messy data\n",
    "- Explore data, gain insight into data\n",
    "- Process and prepare your data for analysis\n",
    "- Analyse your data (together with scikit-learn, statsmodels, ...)"
   ]
  },
  {
   "cell_type": "markdown",
   "id": "e5d3d2ad",
   "metadata": {},
   "source": [
    "## Why you should learn Pandas\n",
    "As humans interact more and more with technology, vast amounts of data are being generated each day. Hence, the ability to analyse these data and draw insights from them is becoming an increasingly important skill to have in the modern workforce. Organisations are progressively turning to data to help them better understand their customers and products, analyse past trends and patterns, improve operational efficiency and so on.\n",
    "\n",
    "Here are just some of the many reasons why you should learn pandas:\n",
    "\n",
    "- By learning pandas, you learn the fundamental ideas behind working with data as well as some skill and knowledge to code in Python\n",
    "- It is straightforward to learn and you can immediately apply it to any dataset you want\n",
    "- It is commonly used in the data science and machine learning community"
   ]
  },
  {
   "cell_type": "markdown",
   "id": "17ecf352",
   "metadata": {},
   "source": [
    "# Pandas: data analysis in python\n",
    "\n",
    "For data-intensive work in Python the [Pandas](http://pandas.pydata.org) library has become essential.\n",
    "\n",
    "What is ``pandas``?\n",
    "\n",
    "* Pandas is a fast, powerful, flexible and easy to use open source data analysis and manipulation tool,\n",
    "built on top of the Python programming language.\n",
    "\n",
    "\n",
    "\n",
    "* Powerful for working with missing data, working with time series data, for reading and writing your data, for reshaping, grouping, merging your data, ...\n",
    "\n",
    "It's documentation: http://pandas.pydata.org/pandas-docs/stable/"
   ]
  },
  {
   "cell_type": "markdown",
   "id": "26c49bac",
   "metadata": {},
   "source": [
    "## Key features\n",
    "\n",
    "* Fast, easy and flexible input/output for a lot of different data formats\n",
    "* Working with missing data (`.dropna()`, `pd.isnull()`)\n",
    "* Merging and joining (`concat`, `join`)\n",
    "* Grouping: `groupby` functionality\n",
    "* Reshaping (`stack`, `pivot`)\n",
    "* Powerful time series manipulation (resampling, timezones, ..)\n",
    "* Easy plotting"
   ]
  },
  {
   "cell_type": "markdown",
   "id": "dcbfeb3d",
   "metadata": {},
   "source": [
    "# Basic data structures\n",
    "\n",
    "Pandas does this through two fundamental object types, both built upon NumPy arrays: the ``Series`` object, and the ``DataFrame`` object."
   ]
  },
  {
   "attachments": {
    "image.png": {
     "image/png": "[encoded data removed]"
    }
   },
   "cell_type": "markdown",
   "id": "e3bd52b7",
   "metadata": {},
   "source": [
    "### Pandas data table representation\n",
    "![image.png](attachment:image.png)"
   ]
  },
  {
   "cell_type": "markdown",
   "id": "d7b22149",
   "metadata": {},
   "source": [
    "### Each column in a DataFrame is a Series"
   ]
  },
  {
   "cell_type": "markdown",
   "id": "5c49a221",
   "metadata": {},
   "source": [
    "## Series\n",
    "\n",
    "A Series is a basic holder for **one-dimensional labeled data**. It can be created much as a NumPy array is created:"
   ]
  },
  {
   "cell_type": "code",
   "execution_count": null,
   "id": "b51897a8",
   "metadata": {},
   "outputs": [],
   "source": [
    "%matplotlib inline\n",
    "import pandas as pd\n",
    "import numpy as np\n",
    "import matplotlib.pyplot as plt\n",
    "import seaborn\n",
    "\n",
    "pd.options.display.max_rows = 8"
   ]
  },
  {
   "cell_type": "code",
   "execution_count": null,
   "id": "d895102c",
   "metadata": {},
   "outputs": [],
   "source": [
    "s = pd.Series([0.1, 0.2, 0.3, 0.4])\n",
    "s"
   ]
  },
  {
   "cell_type": "markdown",
   "id": "d177ef9e",
   "metadata": {},
   "source": [
    "### Attributes of a Series: `index` and `values`\n",
    "\n",
    "The series has a built-in concept of an **index**, which by default is the numbers *0* through *N - 1*"
   ]
  },
  {
   "cell_type": "code",
   "execution_count": null,
   "id": "a60460d6",
   "metadata": {},
   "outputs": [],
   "source": [
    "s.index"
   ]
  },
  {
   "cell_type": "code",
   "execution_count": null,
   "id": "5a04ca41",
   "metadata": {},
   "outputs": [],
   "source": [
    "s.values"
   ]
  },
  {
   "cell_type": "markdown",
   "id": "e86f7f9b",
   "metadata": {},
   "source": [
    "We can access series values via the index, just like for NumPy arrays:"
   ]
  },
  {
   "cell_type": "code",
   "execution_count": null,
   "id": "48a90855",
   "metadata": {},
   "outputs": [],
   "source": [
    "s[0]"
   ]
  },
  {
   "cell_type": "markdown",
   "id": "cda42709",
   "metadata": {},
   "source": [
    "Unlike the NumPy array, though, this index can be something other than integers:"
   ]
  },
  {
   "cell_type": "code",
   "execution_count": null,
   "id": "4f200179",
   "metadata": {},
   "outputs": [],
   "source": [
    "s2 = pd.Series(np.arange(4), index=['a', 'b', 'c', 'd'])\n",
    "s2"
   ]
  },
  {
   "cell_type": "code",
   "execution_count": null,
   "id": "7c6df895",
   "metadata": {},
   "outputs": [],
   "source": [
    "s2['c']"
   ]
  },
  {
   "cell_type": "code",
   "execution_count": null,
   "id": "9ec99ad4",
   "metadata": {},
   "outputs": [],
   "source": [
    "population = pd.Series({'Germany': 81.3, 'Belgium': 11.3, 'France': 64.3, 'United Kingdom': 64.9, 'Netherlands': 16.9})\n",
    "population"
   ]
  },
  {
   "cell_type": "code",
   "execution_count": null,
   "id": "39f84839",
   "metadata": {},
   "outputs": [],
   "source": [
    "population['France']"
   ]
  },
  {
   "cell_type": "markdown",
   "id": "4389d6e7",
   "metadata": {},
   "source": [
    "but with the power of numpy arrays:"
   ]
  },
  {
   "cell_type": "code",
   "execution_count": null,
   "id": "c5b166cb",
   "metadata": {},
   "outputs": [],
   "source": [
    "population * 1000"
   ]
  },
  {
   "cell_type": "markdown",
   "id": "3a12e0ee",
   "metadata": {},
   "source": [
    "We can index or slice the populations as expected:"
   ]
  },
  {
   "cell_type": "code",
   "execution_count": null,
   "id": "b74e32b8",
   "metadata": {},
   "outputs": [],
   "source": [
    "population['Belgium']"
   ]
  },
  {
   "cell_type": "code",
   "execution_count": null,
   "id": "b02aed8b",
   "metadata": {},
   "outputs": [],
   "source": [
    "population['Germany':'France']"
   ]
  },
  {
   "cell_type": "markdown",
   "id": "f1b48dc7",
   "metadata": {},
   "source": [
    "Fancy indexing, like indexing with a list or boolean indexing:"
   ]
  },
  {
   "cell_type": "code",
   "execution_count": null,
   "id": "38f07057",
   "metadata": {},
   "outputs": [],
   "source": [
    "population[['France', 'Netherlands']]"
   ]
  },
  {
   "cell_type": "code",
   "execution_count": null,
   "id": "8f77a34a",
   "metadata": {},
   "outputs": [],
   "source": [
    "population[population > 20]"
   ]
  },
  {
   "cell_type": "markdown",
   "id": "7a1b38f9",
   "metadata": {},
   "source": [
    "Element-wise operations:"
   ]
  },
  {
   "cell_type": "code",
   "execution_count": null,
   "id": "2a615da1",
   "metadata": {},
   "outputs": [],
   "source": [
    "population / 100"
   ]
  },
  {
   "cell_type": "markdown",
   "id": "dce2e2e8",
   "metadata": {},
   "source": [
    "A range of methods:"
   ]
  },
  {
   "cell_type": "code",
   "execution_count": null,
   "id": "8af76642",
   "metadata": {},
   "outputs": [],
   "source": [
    "population.mean()"
   ]
  },
  {
   "cell_type": "markdown",
   "id": "49e7cf74",
   "metadata": {},
   "source": [
    "## Alignment!\n",
    "Only, pay attention to alignment: operations between series will align on the index:"
   ]
  },
  {
   "cell_type": "code",
   "execution_count": null,
   "id": "24a72c84",
   "metadata": {},
   "outputs": [],
   "source": [
    "s1 = population[['Belgium', 'France']]\n",
    "s2 = population[['France', 'Germany']]"
   ]
  },
  {
   "cell_type": "code",
   "execution_count": null,
   "id": "9e25a4f5",
   "metadata": {},
   "outputs": [],
   "source": [
    "s1"
   ]
  },
  {
   "cell_type": "code",
   "execution_count": null,
   "id": "471b3d2c",
   "metadata": {},
   "outputs": [],
   "source": [
    "s2"
   ]
  },
  {
   "cell_type": "code",
   "execution_count": null,
   "id": "0e37721e",
   "metadata": {},
   "outputs": [],
   "source": [
    "s1 + s2"
   ]
  },
  {
   "cell_type": "markdown",
   "id": "d0cbf093",
   "metadata": {},
   "source": [
    "## DataFrames: Multi-dimensional Data\n",
    "\n",
    "A DataFrame is a **tablular data structure** (multi-dimensional object to hold labeled data) comprised of rows and columns, akin to a spreadsheet, database table, or R's data.frame object. You can think of it as multiple Series object which share the same index.\n"
   ]
  },
  {
   "cell_type": "markdown",
   "id": "1296f58d",
   "metadata": {},
   "source": [
    "One of the most common ways of creating a dataframe is from a dictionary of arrays or lists.\n"
   ]
  },
  {
   "cell_type": "code",
   "execution_count": null,
   "id": "6d771b67",
   "metadata": {},
   "outputs": [],
   "source": [
    "data = {'country': ['Belgium', 'France', 'Germany', 'Netherlands', 'United Kingdom'],\n",
    "        'population': [11.3, 64.3, 81.3, 16.9, 64.9],\n",
    "        'area': [30510, 671308, 357050, 41526, 244820],\n",
    "        'capital': ['Brussels', 'Paris', 'Berlin', 'Amsterdam', 'London']}\n",
    "countries = pd.DataFrame(data)\n",
    "countries"
   ]
  },
  {
   "cell_type": "code",
   "execution_count": null,
   "id": "10724bac",
   "metadata": {},
   "outputs": [],
   "source": [
    "countries.columns"
   ]
  },
  {
   "cell_type": "markdown",
   "id": "65f019a2",
   "metadata": {},
   "source": [
    "To check the data types of the different columns:"
   ]
  },
  {
   "cell_type": "code",
   "execution_count": null,
   "id": "6d801674",
   "metadata": {},
   "outputs": [],
   "source": [
    "countries.dtypes"
   ]
  },
  {
   "cell_type": "markdown",
   "id": "78d07d46",
   "metadata": {},
   "source": [
    "An overview of that information can be given with the `info()` method:"
   ]
  },
  {
   "cell_type": "code",
   "execution_count": null,
   "id": "a88ec9cf",
   "metadata": {},
   "outputs": [],
   "source": [
    "countries.info()"
   ]
  },
  {
   "cell_type": "markdown",
   "id": "f9f91493",
   "metadata": {},
   "source": [
    "If we don't like what the index looks like, we can reset it and set one of our columns:"
   ]
  },
  {
   "cell_type": "code",
   "execution_count": null,
   "id": "508001e8",
   "metadata": {},
   "outputs": [],
   "source": [
    "countries = countries.set_index('country')\n",
    "countries"
   ]
  },
  {
   "cell_type": "markdown",
   "id": "5a2a5abd",
   "metadata": {},
   "source": [
    "To access a Series representing a column in the data, use typical indexing syntax:"
   ]
  },
  {
   "cell_type": "code",
   "execution_count": null,
   "id": "5cbb77f8",
   "metadata": {},
   "outputs": [],
   "source": [
    "countries['area']"
   ]
  },
  {
   "cell_type": "markdown",
   "id": "df083353",
   "metadata": {},
   "source": [
    "Adding a new column to the dataframe is very simple:"
   ]
  },
  {
   "cell_type": "code",
   "execution_count": null,
   "id": "3006df46",
   "metadata": {},
   "outputs": [],
   "source": [
    "countries['density'] = countries['population']*1000000 / countries['area']\n",
    "countries"
   ]
  },
  {
   "cell_type": "markdown",
   "id": "9a27fe0d",
   "metadata": {},
   "source": [
    "We can use masking to select certain data:`"
   ]
  },
  {
   "cell_type": "code",
   "execution_count": null,
   "id": "e8b5a637",
   "metadata": {},
   "outputs": [],
   "source": [
    "countries[countries['density'] > 300]"
   ]
  },
  {
   "cell_type": "markdown",
   "id": "6f79f94a",
   "metadata": {},
   "source": [
    "One useful method to use is the ``describe`` method, which computes summary statistics for each column:es."
   ]
  },
  {
   "cell_type": "code",
   "execution_count": null,
   "id": "d1612bd5",
   "metadata": {},
   "outputs": [],
   "source": [
    "countries.describe()"
   ]
  },
  {
   "cell_type": "markdown",
   "id": "31a4fec1",
   "metadata": {},
   "source": [
    "The `plot` method can be used to quickly visualize the data in different ways:"
   ]
  },
  {
   "cell_type": "code",
   "execution_count": null,
   "id": "85aa1c9b",
   "metadata": {},
   "outputs": [],
   "source": [
    "countries.plot()"
   ]
  },
  {
   "cell_type": "code",
   "execution_count": null,
   "id": "35c66a14",
   "metadata": {},
   "outputs": [],
   "source": [
    "countries['population'].plot(kind='bar')"
   ]
  },
  {
   "cell_type": "markdown",
   "id": "1de8805a",
   "metadata": {},
   "source": [
    "## Some notes on selecting data\n",
    "\n",
    "One of pandas' basic features is the labeling of rows and columns, but this makes indexing also a bit more complex compared to numpy. We now have to distuinguish between:\n",
    "\n",
    "- selection by label\n",
    "- selection by position."
   ]
  },
  {
   "cell_type": "markdown",
   "id": "d16fd983",
   "metadata": {},
   "source": [
    "For a DataFrame, basic indexing selects the columns.\n",
    "\n",
    "Selecting a single column:"
   ]
  },
  {
   "cell_type": "code",
   "execution_count": null,
   "id": "989dbe06",
   "metadata": {},
   "outputs": [],
   "source": [
    "countries.head()"
   ]
  },
  {
   "cell_type": "code",
   "execution_count": null,
   "id": "e3c4ec7b",
   "metadata": {},
   "outputs": [],
   "source": [
    "countries['area']"
   ]
  },
  {
   "cell_type": "markdown",
   "id": "d16732e4",
   "metadata": {},
   "source": [
    "or multiple columns:"
   ]
  },
  {
   "cell_type": "code",
   "execution_count": null,
   "id": "76c78668",
   "metadata": {},
   "outputs": [],
   "source": [
    "countries[['area', 'population']]"
   ]
  },
  {
   "cell_type": "markdown",
   "id": "045e0219",
   "metadata": {},
   "source": [
    "But, slicing accesses the rows:"
   ]
  },
  {
   "cell_type": "code",
   "execution_count": null,
   "id": "d76e6687",
   "metadata": {},
   "outputs": [],
   "source": [
    "countries['France':'Netherlands']"
   ]
  },
  {
   "cell_type": "markdown",
   "id": "1090e6d1",
   "metadata": {},
   "source": [
    "For more advanced indexing, you have some extra attributes:\n",
    "    \n",
    "* `loc`: selection by label\n",
    "* `iloc`: selection by position"
   ]
  },
  {
   "cell_type": "code",
   "execution_count": null,
   "id": "8ac49b2c",
   "metadata": {},
   "outputs": [],
   "source": [
    "countries.loc['Germany', 'area']"
   ]
  },
  {
   "cell_type": "code",
   "execution_count": null,
   "id": "179b3ecc",
   "metadata": {},
   "outputs": [],
   "source": [
    "countries.loc['France':'Germany', :]"
   ]
  },
  {
   "cell_type": "code",
   "execution_count": null,
   "id": "0fcb0372",
   "metadata": {},
   "outputs": [],
   "source": [
    "countries.loc[countries['density']>300, ['capital', 'population']]"
   ]
  },
  {
   "cell_type": "markdown",
   "id": "f142d19a",
   "metadata": {},
   "source": [
    "Selecting by position with `iloc` works similar as indexing numpy arrays:"
   ]
  },
  {
   "cell_type": "code",
   "execution_count": null,
   "id": "6794cea5",
   "metadata": {},
   "outputs": [],
   "source": [
    "countries.iloc[0:2,1:3]"
   ]
  },
  {
   "cell_type": "markdown",
   "id": "76e61b10",
   "metadata": {},
   "source": [
    "The different indexing methods can also be used to assign data:"
   ]
  },
  {
   "cell_type": "code",
   "execution_count": null,
   "id": "547fbb8e",
   "metadata": {},
   "outputs": [],
   "source": [
    "countries.loc['Belgium':'Germany', 'population'] = 10"
   ]
  },
  {
   "cell_type": "code",
   "execution_count": null,
   "id": "3decd38f",
   "metadata": {},
   "outputs": [],
   "source": [
    "countries"
   ]
  },
  {
   "cell_type": "markdown",
   "id": "fe0cf171",
   "metadata": {},
   "source": [
    "There are many, many more interesting operations that can be done on Series and DataFrame objects, but rather than continue using this toy data, we'll instead move to a real-world example, and illustrate some of the advanced concepts along the way."
   ]
  },
  {
   "cell_type": "markdown",
   "id": "5226c94e",
   "metadata": {},
   "source": [
    "## Case Study"
   ]
  },
  {
   "cell_type": "markdown",
   "id": "ff002e19",
   "metadata": {},
   "source": [
    "## Read the dataset"
   ]
  },
  {
   "cell_type": "code",
   "execution_count": null,
   "id": "680586d7",
   "metadata": {},
   "outputs": [],
   "source": [
    "titanic = pd.read_csv(\"titanic.csv\")"
   ]
  },
  {
   "cell_type": "markdown",
   "id": "df16b9a1",
   "metadata": {},
   "source": [
    "### Getting the glimpse of Data "
   ]
  },
  {
   "cell_type": "code",
   "execution_count": null,
   "id": "ec2537c2",
   "metadata": {},
   "outputs": [],
   "source": [
    "titanic.head()"
   ]
  },
  {
   "cell_type": "code",
   "execution_count": null,
   "id": "2d1d6309",
   "metadata": {},
   "outputs": [],
   "source": [
    "###print first 8 rows of dataset\n",
    "titanic.head(8)"
   ]
  },
  {
   "cell_type": "code",
   "execution_count": null,
   "id": "f1e703e1",
   "metadata": {},
   "outputs": [],
   "source": [
    "###print last 5 rows of dataset\n",
    "titanic.tail()"
   ]
  },
  {
   "cell_type": "code",
   "execution_count": null,
   "id": "4ff78be0",
   "metadata": {},
   "outputs": [],
   "source": [
    "###print last 8 rows of dataset\n",
    "titanic.tail(8)"
   ]
  },
  {
   "cell_type": "markdown",
   "id": "b1ff72d2",
   "metadata": {},
   "source": [
    "## Getting detailed summary of dataframe"
   ]
  },
  {
   "cell_type": "code",
   "execution_count": null,
   "id": "f23536b7",
   "metadata": {},
   "outputs": [],
   "source": [
    "## summary of dataframe\n",
    "titanic.info()"
   ]
  },
  {
   "cell_type": "code",
   "execution_count": null,
   "id": "1e8b96d3",
   "metadata": {},
   "outputs": [],
   "source": [
    "###Data types of each column\n",
    "titanic.dtypes"
   ]
  },
  {
   "cell_type": "markdown",
   "id": "2b01b897",
   "metadata": {},
   "source": [
    "## Renaming columns"
   ]
  },
  {
   "cell_type": "code",
   "execution_count": null,
   "id": "811cf6c0",
   "metadata": {},
   "outputs": [],
   "source": [
    "titanic.head()"
   ]
  },
  {
   "cell_type": "code",
   "execution_count": null,
   "id": "bbaaf0f9",
   "metadata": {},
   "outputs": [],
   "source": [
    "# Suppose we want to change the names of the first two columns\n",
    "titanic.rename(columns = {'Survived': 'Surv', 'Pclass': 'class'}, inplace = True)\n",
    "titanic.head()"
   ]
  },
  {
   "cell_type": "code",
   "execution_count": null,
   "id": "393d0265",
   "metadata": {},
   "outputs": [],
   "source": [
    "titanic = pd.read_csv(\"titanic.csv\")"
   ]
  },
  {
   "cell_type": "markdown",
   "id": "4bf2d8e4",
   "metadata": {},
   "source": [
    "## Dropping columns and rows\n",
    "There are a few of ways you can drop columns or rows from your dataframe. In this example, I am only focusing on the 'drop' function."
   ]
  },
  {
   "cell_type": "code",
   "execution_count": null,
   "id": "fe6bd8ae",
   "metadata": {},
   "outputs": [],
   "source": [
    "# Drop the 'Name' column\n",
    "\n",
    "titanic.drop(columns = 'Name')"
   ]
  },
  {
   "cell_type": "code",
   "execution_count": null,
   "id": "26923e7d",
   "metadata": {},
   "outputs": [],
   "source": [
    "# Drop row with id 478\n",
    "titanic.drop(478)"
   ]
  },
  {
   "cell_type": "markdown",
   "id": "13be0947",
   "metadata": {},
   "source": [
    "## Subsetting data\n",
    "### Selecting specific columns from data"
   ]
  },
  {
   "cell_type": "markdown",
   "id": "48031b3d",
   "metadata": {},
   "source": [
    "There are two ways you can select a column of a dataframe.\n",
    "\n",
    "- titanic.Name\n",
    "- titanic['Name']"
   ]
  },
  {
   "cell_type": "code",
   "execution_count": null,
   "id": "b61c6023",
   "metadata": {},
   "outputs": [],
   "source": [
    "# Let's first try out it out on the Name feature\n",
    "\n",
    "titanic.Name"
   ]
  },
  {
   "cell_type": "code",
   "execution_count": null,
   "id": "e1be3029",
   "metadata": {},
   "outputs": [],
   "source": [
    "titanic['Name']"
   ]
  },
  {
   "cell_type": "markdown",
   "id": "50a21c77",
   "metadata": {},
   "source": [
    "## Index-based selection"
   ]
  },
  {
   "cell_type": "markdown",
   "id": "b96421c3",
   "metadata": {},
   "source": [
    "We use iloc to select data based on their numerical position in the dataframe.\n",
    "\n",
    "iloc takes two argument, first is row followed by column. It has a starting index of 0 that is 0 is first, 1 is second, 2 is third and so on."
   ]
  },
  {
   "cell_type": "code",
   "execution_count": null,
   "id": "db694009",
   "metadata": {},
   "outputs": [],
   "source": [
    "titanic.head()"
   ]
  },
  {
   "cell_type": "code",
   "execution_count": null,
   "id": "241be305",
   "metadata": {},
   "outputs": [],
   "source": [
    "# First row and all columns\n",
    "titanic.iloc[0, :]"
   ]
  },
  {
   "cell_type": "code",
   "execution_count": null,
   "id": "7e9da20b",
   "metadata": {},
   "outputs": [],
   "source": [
    "# Fourth column that is the Name column and all rows\n",
    "# Since starting index is 0 fourth column corresponds to index number 3\n",
    "titanic.iloc[:, 3]"
   ]
  },
  {
   "cell_type": "markdown",
   "id": "68fcab62",
   "metadata": {},
   "source": [
    "Suppose we want to select a range of values.\n",
    "\n",
    "iloc includes the first number but exclude the last number of the range. For example, if we want the second and third row of the first column, the code is as follows:"
   ]
  },
  {
   "cell_type": "code",
   "execution_count": null,
   "id": "e0874a12",
   "metadata": {},
   "outputs": [],
   "source": [
    "# Second and third rows of the first \n",
    "titanic.iloc[1:3, 0]"
   ]
  },
  {
   "cell_type": "markdown",
   "id": "f6244555",
   "metadata": {},
   "source": [
    "We can also pass in a list or series into iloc\n",
    "\n"
   ]
  },
  {
   "cell_type": "code",
   "execution_count": null,
   "id": "e820c1bf",
   "metadata": {},
   "outputs": [],
   "source": [
    "# First three rows and all columns\n",
    "titanic.iloc[[0, 1, 2], :]"
   ]
  },
  {
   "cell_type": "markdown",
   "id": "ceec7089",
   "metadata": {},
   "source": [
    "We can also go from the bottom of the dataframe.\n",
    "\n"
   ]
  },
  {
   "cell_type": "code",
   "execution_count": null,
   "id": "6ebc112f",
   "metadata": {},
   "outputs": [],
   "source": [
    "# Bottom five rows of the dataframe\n",
    "titanic.iloc[-5:, :]"
   ]
  },
  {
   "cell_type": "markdown",
   "id": "78b930a8",
   "metadata": {},
   "source": [
    "## Label-based selection"
   ]
  },
  {
   "cell_type": "markdown",
   "id": "d9f698b4",
   "metadata": {},
   "source": [
    "With loc we need to specify the actual name of the column.\n",
    "\n"
   ]
  },
  {
   "cell_type": "code",
   "execution_count": null,
   "id": "6234ca15",
   "metadata": {},
   "outputs": [],
   "source": [
    "# First row of the Name column\n",
    "titanic.loc[0, 'Name']"
   ]
  },
  {
   "cell_type": "markdown",
   "id": "c49ea881",
   "metadata": {},
   "source": [
    "### Different to iloc, when we want to select a range of values, loc includes both the start as well as the end of the range.\n",
    "\n",
    "For example, to get the first 5 rows under `iloc` we would have `titanic[:5]` whereas for `loc` we have `titanic[:4]` instead.\n",
    "\n",
    "\n",
    "\n"
   ]
  },
  {
   "cell_type": "code",
   "execution_count": null,
   "id": "da8b7b72",
   "metadata": {},
   "outputs": [],
   "source": [
    "# First 5 rows of the Name, Sex and Age column\n",
    "titanic.loc[:4, ['Name', 'Sex', 'Age']]"
   ]
  },
  {
   "cell_type": "markdown",
   "id": "aa8c8416",
   "metadata": {},
   "source": [
    "## Conditional Selection"
   ]
  },
  {
   "cell_type": "code",
   "execution_count": null,
   "id": "31841c24",
   "metadata": {},
   "outputs": [],
   "source": [
    "# Rows with age 50\n",
    "titanic.loc[titanic['Age'] == 50, :]"
   ]
  },
  {
   "cell_type": "code",
   "execution_count": null,
   "id": "7bdf093a",
   "metadata": {},
   "outputs": [],
   "source": [
    "# Rows with age 50 AND are female\n",
    "# This is a subset of the above dataframe by filtering out females\n",
    "titanic.loc[(titanic['Age'] == 50) & (titanic['Sex'] == 'female') ,:]"
   ]
  },
  {
   "cell_type": "code",
   "execution_count": null,
   "id": "6f031128",
   "metadata": {},
   "outputs": [],
   "source": [
    "# Rows with age 50 OR have fare greater than or equal to 200\n",
    "titanic.loc[(titanic['Age'] == 50) | (titanic['Fare'] >= 200), :]"
   ]
  },
  {
   "cell_type": "code",
   "execution_count": null,
   "id": "f782063a",
   "metadata": {},
   "outputs": [],
   "source": [
    "# All the rows with null cabin column\n",
    "titanic.loc[titanic['Cabin'].isnull(), :]"
   ]
  },
  {
   "cell_type": "markdown",
   "id": "6d83a189",
   "metadata": {},
   "source": [
    "## Summary statistics for Data"
   ]
  },
  {
   "cell_type": "code",
   "execution_count": null,
   "id": "781d1742",
   "metadata": {},
   "outputs": [],
   "source": [
    "###Mean age of passengers\n",
    "titanic[\"Age\"].mean()"
   ]
  },
  {
   "cell_type": "code",
   "execution_count": null,
   "id": "107e015a",
   "metadata": {},
   "outputs": [],
   "source": [
    "###Median age and fare\n",
    "titanic[[\"Age\", \"Fare\"]].median()"
   ]
  },
  {
   "cell_type": "code",
   "execution_count": null,
   "id": "6b52545b",
   "metadata": {},
   "outputs": [],
   "source": [
    "###Detailed summary statistics\n",
    "titanic[[\"Age\", \"Fare\"]].describe()"
   ]
  },
  {
   "cell_type": "markdown",
   "id": "c104cf41",
   "metadata": {},
   "source": [
    "### Aggregating statistics (usually for categorical variables)"
   ]
  },
  {
   "cell_type": "markdown",
   "id": "817bb12c",
   "metadata": {},
   "source": [
    "### Aggregating for single variable/column"
   ]
  },
  {
   "cell_type": "code",
   "execution_count": null,
   "id": "0b5c2c46",
   "metadata": {},
   "outputs": [],
   "source": [
    "titanic.head()"
   ]
  },
  {
   "cell_type": "code",
   "execution_count": null,
   "id": "841df5b4",
   "metadata": {},
   "outputs": [],
   "source": [
    "### Compute mean of Age by Sex\n",
    "titanic.groupby(\"Sex\")[\"Age\"].mean()"
   ]
  },
  {
   "cell_type": "markdown",
   "id": "01b034fc",
   "metadata": {},
   "source": [
    "### Aggregating by multiple columns"
   ]
  },
  {
   "cell_type": "code",
   "execution_count": null,
   "id": "bafea233",
   "metadata": {},
   "outputs": [],
   "source": [
    "### Compute mean age of passengers grouped by class\n",
    "titanic[[\"Age\", \"Pclass\"]].groupby(\"Pclass\").mean()"
   ]
  },
  {
   "cell_type": "code",
   "execution_count": null,
   "id": "d35d5684",
   "metadata": {},
   "outputs": [],
   "source": [
    "### Compute mean age of passengers grouped by sex\n",
    "titanic[[\"Age\", \"Sex\"]].groupby(\"Sex\").mean()"
   ]
  },
  {
   "cell_type": "markdown",
   "id": "00036390",
   "metadata": {},
   "source": [
    "### Count the number of categorical variables\n"
   ]
  },
  {
   "cell_type": "code",
   "execution_count": null,
   "id": "bf32e1f4",
   "metadata": {},
   "outputs": [],
   "source": [
    "### Number of passengers in each class\n",
    "titanic[\"Pclass\"].value_counts()"
   ]
  },
  {
   "cell_type": "code",
   "execution_count": null,
   "id": "2ebc7b87",
   "metadata": {},
   "outputs": [],
   "source": [
    "### Number of males and females\n",
    "titanic[\"Sex\"].value_counts()"
   ]
  },
  {
   "cell_type": "markdown",
   "id": "379bed79",
   "metadata": {},
   "source": [
    "## Combining Dataframes"
   ]
  },
  {
   "cell_type": "markdown",
   "id": "bd8fd6a5",
   "metadata": {},
   "source": [
    "When working with multiple datasets during a project, there will come a point where you might wish to merge your dataframes together to have a better view and understanding of your data.\n",
    "\n",
    "In this tutorial, we will cover two pandas functions, and they are `concat and merge` that are used to combine dataframes."
   ]
  },
  {
   "cell_type": "markdown",
   "id": "3623362c",
   "metadata": {},
   "source": [
    "## Concat"
   ]
  },
  {
   "cell_type": "markdown",
   "id": "bfe9971c",
   "metadata": {},
   "source": [
    "Concat is short for concatenate. This function allows to stack two separate dataframes both vertically and horizontally.\n",
    "\n",
    "Let's observe this with an example."
   ]
  },
  {
   "cell_type": "code",
   "execution_count": null,
   "id": "e7d63024",
   "metadata": {},
   "outputs": [],
   "source": [
    "df1 = pd.DataFrame({'Name': ['Vicky', 'Bill'], 'Age': [12, 46]})\n",
    "df2 = pd.DataFrame({'Name': ['John', 'Sabrina'], 'Age': [37, 25]})\n",
    "df1"
   ]
  },
  {
   "cell_type": "code",
   "execution_count": null,
   "id": "f9f58e10",
   "metadata": {},
   "outputs": [],
   "source": [
    "df2"
   ]
  },
  {
   "cell_type": "markdown",
   "id": "bbd6da6b",
   "metadata": {},
   "source": [
    "There is an argument called axis within the concat function that you can use to specify which way you would like to stack your dataframe. 1 means horizontal whereas 0 means vertical. If you do not specify, pandas assumes 0 as its default."
   ]
  },
  {
   "cell_type": "code",
   "execution_count": null,
   "id": "f0b17fa7",
   "metadata": {},
   "outputs": [],
   "source": [
    "# Concat horizontally\n",
    "pd.concat([df1, df2], axis = 1)"
   ]
  },
  {
   "cell_type": "code",
   "execution_count": null,
   "id": "35f5b733",
   "metadata": {},
   "outputs": [],
   "source": [
    "# Concat vertically and ignore index\n",
    "df3 = pd.concat([df1, df2], axis = 0)\n",
    "df3"
   ]
  },
  {
   "cell_type": "markdown",
   "id": "bc6f427c",
   "metadata": {},
   "source": [
    "There is another argument called `join` which allows you to stack dataframes only based on the columns shared by two dataframes.\n",
    "\n"
   ]
  },
  {
   "cell_type": "code",
   "execution_count": null,
   "id": "9a00a025",
   "metadata": {},
   "outputs": [],
   "source": [
    "df4 = pd.DataFrame({'Name': ['Tyler', 'Natalie'], 'Age': [28, 39], 'Hobby': ['Swimming', 'Reading']})\n",
    "df4"
   ]
  },
  {
   "cell_type": "code",
   "execution_count": null,
   "id": "92e9bb66",
   "metadata": {},
   "outputs": [],
   "source": [
    "# Outer is the default for the join argument\n",
    "pd.concat([df3, df4], join = 'outer', ignore_index = True)"
   ]
  },
  {
   "cell_type": "markdown",
   "id": "2fbd0356",
   "metadata": {},
   "source": [
    "Outer does not consider any differences in columns between two dataframe. Because df3 does not have a hobby column, pandas will automatically fill them with null values."
   ]
  },
  {
   "cell_type": "code",
   "execution_count": null,
   "id": "111a818c",
   "metadata": {},
   "outputs": [],
   "source": [
    "# Inner stacks only the columns that are shared between the two dataframes\n",
    "pd.concat([df3, df4], join = 'inner', ignore_index = True)"
   ]
  },
  {
   "cell_type": "markdown",
   "id": "e1058278",
   "metadata": {},
   "source": [
    "## Additional Resources for learning Pandas\n",
    "- https://github.com/TirendazAcademy/PANDAS-TUTORIAL\n",
    "- https://www.youtube.com/playlist?list=PL1xVF1dBM4bmy13VIiL0mD8mZQ40XePWw\n",
    "- https://github.com/tommyod/awesome-pandas"
   ]
  }
 ],
 "metadata": {
  "kernelspec": {
   "display_name": "Python 3",
   "language": "python",
   "name": "python3"
  },
  "language_info": {
   "codemirror_mode": {
    "name": "ipython",
    "version": 3
   },
   "file_extension": ".py",
   "mimetype": "text/x-python",
   "name": "python",
   "nbconvert_exporter": "python",
   "pygments_lexer": "ipython3",
   "version": "3.8.11"
  }
 },
 "nbformat": 4,
 "nbformat_minor": 5
}
